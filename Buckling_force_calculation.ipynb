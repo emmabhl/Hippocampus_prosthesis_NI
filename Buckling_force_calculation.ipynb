{
 "cells": [
  {
   "cell_type": "markdown",
   "metadata": {},
   "source": [
    "# Buckling force calculation"
   ]
  },
  {
   "cell_type": "code",
   "execution_count": 21,
   "metadata": {},
   "outputs": [],
   "source": [
    "import numpy as np"
   ]
  },
  {
   "cell_type": "markdown",
   "metadata": {},
   "source": [
    "## Assumptions\n",
    "\n",
    "- Young modulus of PI is 2.5 GPa (not in a range)\n",
    "- When estimating the volume of PI and Pt, we consider that only the thickness is different (length and width for both are the same)\n",
    "- Assume K (or effective length) is 0.7\n",
    "- We approximate each interconnect to be approximately of the same length equal to 35 mm"
   ]
  },
  {
   "cell_type": "markdown",
   "metadata": {},
   "source": [
    "### Constants"
   ]
  },
  {
   "cell_type": "code",
   "execution_count": 22,
   "metadata": {},
   "outputs": [],
   "source": [
    "b = 1e-3 # in m, width\n",
    "L = 35e-3 # in m, length\n",
    "\n",
    "# Thickness of polyimide\n",
    "h_PI_min = 20e-6 # in m\n",
    "h_PI_max = 50e-6 # in m\n",
    "\n",
    "# Thickness of Pt\n",
    "h_Pt_min = 0.6e-6 # in m\n",
    "h_Pt_max = 3e-6 # in m\n",
    "\n",
    "# Thickness of TiN coating\n",
    "h_TiN = 5e-6 # in m\n",
    "\n",
    "# total thickness\n",
    "h_tot_min = h_PI_min + h_Pt_min + h_TiN\n",
    "h_tot_max = h_PI_max + h_Pt_max + h_TiN\n",
    "\n",
    "# Young modului\n",
    "E_PI = 2.5e9 # in Pa, ranges from 1-5 GPa\n",
    "E_Pt = 170e9 # in Pa\n",
    "E_TiN = 375e9 # in Pa, ranges from 300-450 GPa\n",
    "\n",
    "# Poisson coefficients\n",
    "v_PI = 0.34\n",
    "v_Pt = 0.38\n",
    "v_TiN = 0.25 # https://www.memsnet.org/material/titaniumnitridetinfilm/"
   ]
  },
  {
   "cell_type": "markdown",
   "metadata": {},
   "source": [
    "## Without Poisson coefficients"
   ]
  },
  {
   "cell_type": "code",
   "execution_count": 23,
   "metadata": {},
   "outputs": [
    {
     "name": "stdout",
     "output_type": "stream",
     "text": [
      "79179687500.0 43275862068.96552\n"
     ]
    }
   ],
   "source": [
    "# Total Young modulus calculations\n",
    "E_min = E_PI*h_PI_min/h_tot_min+E_Pt*h_Pt_min/h_tot_min+E_TiN*h_TiN/h_tot_min\n",
    "E_max = E_PI*h_PI_max/h_tot_max+E_Pt*h_Pt_max/h_tot_max+E_TiN*h_TiN/h_tot_max\n",
    "print(E_min, E_max)\n",
    "# I rectangular\n",
    "I_rect_min = b*h_tot_min**3/12\n",
    "I_rect_max = b*h_tot_max**3/12\n",
    "#print(I_rect_max)\n",
    "# Effective length factor \n",
    "L_actual = 1\n",
    "L_probe = 1\n",
    "#K = L_actual/L_probe \n",
    "K=0.7 # typical value\n"
   ]
  },
  {
   "cell_type": "code",
   "execution_count": 24,
   "metadata": {},
   "outputs": [
    {
     "name": "stdout",
     "output_type": "stream",
     "text": [
      "Minimal buckling force in mN: 1.8202037716206982\n",
      "Minimal buckling force in mN: 11.569538595753734\n"
     ]
    }
   ],
   "source": [
    "# calculating buckling force\n",
    "F_min = np.pi**2*I_rect_min*E_min/(K*L)**2\n",
    "print('Minimal buckling force in mN: '+str(F_min*1000))\n",
    "\n",
    "F_max = np.pi**2*I_rect_max*E_max/(K*L)**2\n",
    "print('Minimal buckling force in mN: '+str(F_max*1000))"
   ]
  },
  {
   "cell_type": "markdown",
   "metadata": {},
   "source": [
    "## With Poisson coefficients \n",
    "They are used to consider the strain in the plane of the device"
   ]
  },
  {
   "cell_type": "code",
   "execution_count": 25,
   "metadata": {},
   "outputs": [
    {
     "name": "stdout",
     "output_type": "stream",
     "text": [
      "Minimal buckling force in mN: 1.953778254033917\n",
      "Minimal buckling force in mN: 12.617765029191347\n"
     ]
    }
   ],
   "source": [
    "E_PI_p = E_PI/(1-v_PI**2) # in Pa, ranges from 1-5 GPa\n",
    "E_Pt_p = E_Pt/(1-v_Pt**2) # in Pa\n",
    "E_TiN_p = E_TiN/(1-v_TiN**2)# in Pa, ranges from 300-450 GPa\n",
    "\n",
    "# Total Young modulus calculations\n",
    "E_min_p = E_PI_p*h_PI_min/h_tot_min+E_Pt_p*h_Pt_min/h_tot_min+E_TiN_p*h_TiN/h_tot_min\n",
    "E_max_p =E_PI_p*h_PI_max/h_tot_max+E_Pt_p*h_Pt_max/h_tot_max+E_TiN_p*h_TiN/h_tot_max\n",
    "\n",
    "# calculating buckling force\n",
    "F_min_p = np.pi**2*I_rect_min*E_min_p/(K*L)**2\n",
    "print('Minimal buckling force in mN: '+str(F_min_p*1000))\n",
    "\n",
    "F_max_p = np.pi**2*I_rect_max*E_max_p/(K*L)**2\n",
    "print('Minimal buckling force in mN: '+str(F_max_p*1000))"
   ]
  },
  {
   "cell_type": "markdown",
   "metadata": {},
   "source": [
    "#### Should be between 22.35 - 25.3 mN according to https://www.ncbi.nlm.nih.gov/pmc/articles/PMC9168446/"
   ]
  },
  {
   "cell_type": "markdown",
   "metadata": {},
   "source": [
    "### Possible explanations of the result\n",
    "- We have a range of young modulus for PI and TiN\n",
    "- The thickness of the TiN affects its Young's modulus\n",
    "- Depends on the composition of TiN (how much Ti and how much N in percentage we have) https://www.researchgate.net/publication/230765215_Critical_Review_on_the_Elastic_Properties_of_Transition_Metal_Carbides_Nitrides_and_Carbonitrides"
   ]
  },
  {
   "cell_type": "markdown",
   "metadata": {},
   "source": [
    "## Re-calculations after interconnect routings"
   ]
  },
  {
   "cell_type": "code",
   "execution_count": 26,
   "metadata": {},
   "outputs": [
    {
     "data": {
      "text/plain": [
       "'\\n# One layer\\nh_PI_layer = 5e-6 # in m\\nh_Pt_layer = 0.3e-6 # in m\\nh_TiN_layer = 4.7e-6 # in m\\n\\nb_electrode = 1e-3 # in m, width\\nL_electrode = 35e-3 # in m, length\\nb_interconnect = 30e-6 # in m, width\\nL_interconnect_1 = 35e-3 - 50e-6 # in m, length\\nL_interconnect_2 = 35e-3 - 2*50e-6 # in m, length\\nL_interconnect_3 = 35e-3 - 3*50e-6 # in m, length\\n\\n# Total thickness\\nV_tot = h_PI_layer*8 + h_TiN*2\\nV_Pt_1 = h_Pt_layer*9*L_interconnect_1*b_interconnect\\nV_Pt_2 = h_Pt_layer*9*L_interconnect_2*b_interconnect\\nV_Pt_3 = h_Pt_layer*9*L_interconnect_3*b_interconnect\\n'"
      ]
     },
     "execution_count": 26,
     "metadata": {},
     "output_type": "execute_result"
    }
   ],
   "source": [
    "'''\n",
    "# One layer\n",
    "h_PI_layer = 5e-6 # in m\n",
    "h_Pt_layer = 0.3e-6 # in m\n",
    "h_TiN_layer = 4.7e-6 # in m\n",
    "\n",
    "b_electrode = 1e-3 # in m, width\n",
    "L_electrode = 35e-3 # in m, length\n",
    "b_interconnect = 30e-6 # in m, width\n",
    "L_interconnect_1 = 35e-3 - 50e-6 # in m, length\n",
    "L_interconnect_2 = 35e-3 - 2*50e-6 # in m, length\n",
    "L_interconnect_3 = 35e-3 - 3*50e-6 # in m, length\n",
    "\n",
    "# Total thickness\n",
    "V_tot = h_PI_layer*8 + h_TiN*2\n",
    "V_Pt_1 = h_Pt_layer*9*L_interconnect_1*b_interconnect\n",
    "V_Pt_2 = h_Pt_layer*9*L_interconnect_2*b_interconnect\n",
    "V_Pt_3 = h_Pt_layer*9*L_interconnect_3*b_interconnect\n",
    "'''\n"
   ]
  },
  {
   "cell_type": "code",
   "execution_count": 27,
   "metadata": {},
   "outputs": [
    {
     "name": "stdout",
     "output_type": "stream",
     "text": [
      "Average buckling force in mN: 8.607601942526397\n",
      "Minimum buckling force in mN: 8.01356358143678\n",
      "Maximum buckling force in mN: 9.353723222366554\n"
     ]
    }
   ],
   "source": [
    "# Young modului\n",
    "E_PI = 2.5e9 # in Pa, ranges from 1-5 GPa\n",
    "E_PI_min = 1e9\n",
    "E_PI_max = 5e9\n",
    "E_Pt = 170e9 # in Pa\n",
    "E_TiN = 375e9 # in Pa, ranges from 300-450 GPa\n",
    "E_TiN_min = 300e9\n",
    "E_TiN_max = 450e9\n",
    "\n",
    "# Poisson coefficients\n",
    "v_PI = 0.34\n",
    "v_Pt = 0.38\n",
    "v_TiN = 0.25 # https://www.memsnet.org/material/titaniumnitridetinfilm/\n",
    "\n",
    "# total thickness\n",
    "h_tot = 50e-6 # in m\n",
    "# Thickness of one layer\n",
    "h_Pt_layer = 0.3e-6 # in m\n",
    "h_TiN_layer = 4.7e-6 # in m\n",
    "\n",
    "b_electrode = 1e-3 # in m, width\n",
    "L_electrode = 35e-3 # in m, length\n",
    "b_interconnect = 30e-6 # in m, width\n",
    "\n",
    "# Total volume\n",
    "V_TiN = h_TiN_layer*2*b_electrode*L_electrode\n",
    "V_Pt = h_Pt_layer*b_interconnect*81*L_electrode + h_Pt_layer*b_interconnect*81*(L_electrode-6e-3) + 81*2*40e-6*40e-6*h_Pt_layer # first term is recording interconnect, second - stimulating interconnects, last - electrodes themselves\n",
    "V_tot = h_tot*b_electrode*L_electrode # in m\n",
    "V_PI = V_tot - V_Pt - V_TiN\n",
    "\n",
    "# average\n",
    "E_PI_p = E_PI/(1-v_PI**2) # in Pa, ranges from 1-5 GPa\n",
    "E_Pt_p = E_Pt/(1-v_Pt**2) # in Pa\n",
    "E_TiN_p = E_TiN/(1-v_TiN**2)# in Pa, ranges from 300-450 GPa\n",
    "\n",
    "# minimum\n",
    "E_PI_min_p = E_PI_min/(1-v_PI**2) # in Pa, ranges from 1-5 GPa\n",
    "E_TiN_min_p = E_TiN_min/(1-v_TiN**2)# in Pa, ranges from 300-450 GPa\n",
    "\n",
    "# minimum\n",
    "E_PI_max_p = E_PI_max/(1-v_PI**2) # in Pa, ranges from 1-5 GPa\n",
    "E_TiN_max_p = E_TiN_max/(1-v_TiN**2)# in Pa, ranges from 300-450 GPa\n",
    "\n",
    "# Total Young modulus calculations\n",
    "# average\n",
    "E_p = E_PI_p*V_PI/V_tot+E_Pt_p*V_TiN/V_tot+E_TiN_p*V_Pt/V_tot\n",
    "# minimum\n",
    "E_min_p = E_PI_min_p*V_PI/V_tot+E_Pt_p*V_TiN/V_tot+E_TiN_min_p*V_Pt/V_tot\n",
    "# maximum\n",
    "E_max_p = E_PI_max_p*V_PI/V_tot+E_Pt_p*V_TiN/V_tot+E_TiN_max_p*V_Pt/V_tot\n",
    "\n",
    "I_rect = b_electrode*h_tot**3/12\n",
    "\n",
    "K=0.7 # typical value\n",
    "\n",
    "F_p = np.pi**2*I_rect*E_p/(K*L_electrode)**2\n",
    "F_min_p = np.pi**2*I_rect*E_min_p/(K*L_electrode)**2\n",
    "F_max_p = np.pi**2*I_rect*E_max_p/(K*L_electrode)**2\n",
    "print('Average buckling force in mN: '+str(F_p*1000))\n",
    "print('Minimum buckling force in mN: '+str(F_min_p*1000))\n",
    "print('Maximum buckling force in mN: '+str(F_max_p*1000))"
   ]
  },
  {
   "cell_type": "code",
   "execution_count": null,
   "metadata": {},
   "outputs": [],
   "source": []
  }
 ],
 "metadata": {
  "kernelspec": {
   "display_name": "comp_neuro",
   "language": "python",
   "name": "python3"
  },
  "language_info": {
   "codemirror_mode": {
    "name": "ipython",
    "version": 3
   },
   "file_extension": ".py",
   "mimetype": "text/x-python",
   "name": "python",
   "nbconvert_exporter": "python",
   "pygments_lexer": "ipython3",
   "version": "3.11.5"
  }
 },
 "nbformat": 4,
 "nbformat_minor": 2
}
