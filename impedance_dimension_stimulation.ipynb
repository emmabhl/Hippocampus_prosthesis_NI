{
 "cells": [
  {
   "cell_type": "code",
   "execution_count": 1,
   "metadata": {},
   "outputs": [],
   "source": [
    "import numpy as np\n",
    "import matplotlib.pyplot as plt"
   ]
  },
  {
   "cell_type": "code",
   "execution_count": null,
   "metadata": {},
   "outputs": [],
   "source": [
    "resistivity_Pt = 10.6 * 10**(-6) * 10**(-2) #10.6 µΩ cm https://iopscience.iop.org/article/10.1088/1742-6596/100/8/082006/pdf#:~:text=The%20bulk%20resistivity%20of%20Pt,results%20in%20higher%20film%20resistance.\n",
    "thickness_Pt = 300*10**(-9) #300 nm\n",
    "restivity_TiN = 25 * 10**(-6) * 10**(-2) #25 µΩ cm https://digitalcommons.njit.edu/cgi/viewcontent.cgi?article=1393&context=theses\n",
    "thickness_TiN = 10e-6 #10 µm\n",
    "rho_medium = 1/0.42 #condutivity of grey matter is 0.42 S/m\n",
    "L_track = 3.5 *0.01 #~3,5cm probe length\n",
    "W_track = 40 * 10**(-6) #max width that we can take"
   ]
  },
  {
   "cell_type": "code",
   "execution_count": null,
   "metadata": {},
   "outputs": [
    {
     "name": "stdout",
     "output_type": "stream",
     "text": [
      "R_sheet =  0.3533333333333332 Ohm\n",
      "R_track =  309.1916666666666 Ohm\n",
      "R_spread =  29761.904761904763 Ohm\n",
      "R_series =  30071.09642857143 Ohm\n"
     ]
    }
   ],
   "source": [
    "# Resistance of the track\n",
    "R_sheet = resistivity_Pt / thickness_Pt\n",
    "print(\"R_sheet = \", R_sheet, \"Ohm\")\n",
    "R_track = R_sheet * L_track/W_track + restivity_TiN / thickness_TiN\n",
    "print(\"R_track = \", R_track, \"Ohm\")\n",
    "R_spread = rho_medium/(4*((40*10**(-6))/2))\n",
    "print(\"R_spread = \", R_spread, \"Ohm\")\n",
    "\n",
    "R_series = R_track + R_spread\n",
    "print(\"R_series = \", R_series, \"Ohm\")"
   ]
  },
  {
   "cell_type": "code",
   "execution_count": null,
   "metadata": {},
   "outputs": [
    {
     "name": "stdout",
     "output_type": "stream",
     "text": [
      "21.11004122822376\n"
     ]
    }
   ],
   "source": [
    "# Neurons size\n",
    "area = 350# * 10**(-6) µm^2\n",
    "diameter = np.sqrt(area/np.pi) * 2\n",
    "print(diameter)\n",
    "volume = 350 #cm^2"
   ]
  },
  {
   "cell_type": "code",
   "execution_count": null,
   "metadata": {},
   "outputs": [
    {
     "name": "stdout",
     "output_type": "stream",
     "text": [
      "0.0002\n",
      "0.03627831678597811 0.04135185542000138 0.05848035476425733\n"
     ]
    }
   ],
   "source": [
    "# Neurons distances\n",
    "density = 5000 #cells/mm^3\n",
    "empty_vol = 1/density #mm^3\n",
    "print(empty_vol) #mm^3\n",
    "distance_sphere = (empty_vol * 3/4 / np.pi)**(1/3)#mm\n",
    "distance_square = empty_vol**(1/3) #mm\n",
    "distance_hex = (empty_vol/(2*np.sqrt(2)))**(1/3) #mm\n",
    "print(distance_sphere, distance_hex, distance_square)"
   ]
  },
  {
   "cell_type": "code",
   "execution_count": null,
   "metadata": {},
   "outputs": [
    {
     "name": "stdout",
     "output_type": "stream",
     "text": [
      "GSA =  1.6e-05 cm^2\n",
      "GSA =  1600.0 µm^2\n"
     ]
    }
   ],
   "source": [
    "# Electrodes parameters\n",
    "side_length = 40 * 10**(-4) #40µm = 40 * e-4 cm\n",
    "GSA = side_length**2 # electrode surface area\n",
    "print('GSA = ', GSA, 'cm^2')\n",
    "print('GSA = ', GSA*10**8, 'µm^2')"
   ]
  },
  {
   "cell_type": "code",
   "execution_count": null,
   "metadata": {},
   "outputs": [
    {
     "name": "stdout",
     "output_type": "stream",
     "text": [
      "CA1_area =  5e-07 mm^2\n",
      "CA3_area =  2.2e-06 mm^2\n",
      "n_electrodes_CA1 =  200.0\n",
      "n_electrodes_CA3 =  880.0\n",
      "electrode_density_CA1 =  2.0\n",
      "electrode_density_CA3 =  8.8\n"
     ]
    }
   ],
   "source": [
    "# Shank size\n",
    "CA1_length = 0.5e-3 #0.8mm\n",
    "CA3_length = 2.2e-3 #3mm\n",
    "shank_width = 1e-3 #1.5mm\n",
    "electrode_spacing = 10e-6 #10µm\n",
    "electrode_size = 40e-6 #40µm\n",
    "\n",
    "# Shank surface area\n",
    "CA1_area = CA1_length * shank_width\n",
    "CA3_area = CA3_length * shank_width\n",
    "print('CA1_area = ', CA1_area, 'mm^2')\n",
    "print('CA3_area = ', CA3_area, 'mm^2')\n",
    "\n",
    "# Number of electrodes per shank\n",
    "n_rows_CA1 = CA1_length / (electrode_spacing + electrode_size)\n",
    "n_rows_CA3 = CA3_length / (electrode_spacing + electrode_size)\n",
    "n_cols = shank_width / (electrode_spacing + electrode_size)\n",
    "n_electrodes_CA1 = n_rows_CA1 * n_cols\n",
    "n_electrodes_CA3 = n_rows_CA3 * n_cols\n",
    "print('n_electrodes_CA1 = ', n_electrodes_CA1)\n",
    "print('n_electrodes_CA3 = ', n_electrodes_CA3)\n",
    "\n",
    "# Electrode density\n",
    "electrode_density_CA1 = n_electrodes_CA1 / 100\n",
    "electrode_density_CA3 = n_electrodes_CA3 / 100\n",
    "print('electrode_density_CA1 = ', electrode_density_CA1)\n",
    "print('electrode_density_CA3 = ', electrode_density_CA3)\n",
    "\n"
   ]
  },
  {
   "cell_type": "code",
   "execution_count": null,
   "metadata": {},
   "outputs": [
    {
     "name": "stdout",
     "output_type": "stream",
     "text": [
      "Q_inj : 0.0030000000000000005 µC\n",
      "Q_inj : 3.0000000000000004 nC\n",
      "log10(Q_inj) : -2.5228787452803374\n"
     ]
    }
   ],
   "source": [
    "# Pulse parameters:\n",
    "# according to this study: Different effects of monophasic pulses and biphasic pulses applied by a bipolar stimulation electrode in the rat hippocampal CA1 region\n",
    "# biphasic current pulse cathodic first\n",
    "width = 200e-6 #200µs\n",
    "amplitude_max = 1.5e-4 # 150µA (Shannon's limit)\n",
    "amplitude_min = 1e-10 # 0.1nA (response threshold)\n",
    "amplitude = 1.5e-5 # 15µA\n",
    "interphase_dwell = 100e-6 #100µs\n",
    "Q_inj = (width * amplitude)*10**6 #µC\n",
    "print('Q_inj :', Q_inj, 'µC')\n",
    "print('Q_inj :', Q_inj*10**(3), 'nC')\n",
    "print('log10(Q_inj) :', np.log10(Q_inj))"
   ]
  },
  {
   "cell_type": "code",
   "execution_count": null,
   "metadata": {},
   "outputs": [
    {
     "name": "stdout",
     "output_type": "stream",
     "text": [
      "signal_noise_ratio : 463.57615894039736\n"
     ]
    }
   ],
   "source": [
    "noise_V = 1.5e-7 + 1e-9 # 151nV\n",
    "AP_V = 70e-6 # 70µV\n",
    "signal_noise_ratio = AP_V / noise_V\n",
    "print('signal_noise_ratio :', signal_noise_ratio)"
   ]
  },
  {
   "cell_type": "code",
   "execution_count": null,
   "metadata": {},
   "outputs": [
    {
     "name": "stdout",
     "output_type": "stream",
     "text": [
      "GSA =  1.6e-05 cm^2\n",
      "Charge density =  187.50000000000003 µC/cm2\n",
      "log10(Charge density) =  2.2730012720637376\n"
     ]
    }
   ],
   "source": [
    "# Charge density\n",
    "Charge_density = Q_inj/GSA\n",
    "print('GSA = ', GSA, 'cm^2')\n",
    "print('Charge density = ', Charge_density, 'µC/cm2') #expressed in µC/cm2\n",
    "print('log10(Charge density) = ', np.log10(Charge_density)) "
   ]
  },
  {
   "cell_type": "code",
   "execution_count": null,
   "metadata": {},
   "outputs": [],
   "source": [
    "#Shannon plot for stimulation safety\n",
    "k = 1.75 \n",
    "\n",
    "# Check if the charge density is within the Shannon limit\n",
    "def Within_Shannon_limit(Q, A, k):\n",
    "    return np.log(Q/A) <= k - np.log(Q)\n",
    "\n",
    "# Compute Shannon limit given a GSA and a k value\n",
    "def Shannon_limit(GSA, k):\n",
    "    return np.sqrt(10**k * GSA)\n",
    "\n",
    "# Compute the pulse width or amplitude given the other and the charge density\n",
    "def Shannon_limit_pulse(Q, param):\n",
    "    return Q*10**(-6)/param"
   ]
  },
  {
   "cell_type": "code",
   "execution_count": null,
   "metadata": {},
   "outputs": [
    {
     "data": {
      "text/plain": [
       "True"
      ]
     },
     "execution_count": 12,
     "metadata": {},
     "output_type": "execute_result"
    }
   ],
   "source": [
    "Within_Shannon_limit(Q_inj, GSA, k) #might be wrong because we consider charge density here and not charge capacity"
   ]
  },
  {
   "cell_type": "code",
   "execution_count": null,
   "metadata": {},
   "outputs": [
    {
     "name": "stdout",
     "output_type": "stream",
     "text": [
      "Q_max = 0.02999576837329823 µC\n",
      "Q_max = 29.995768373298233 nC\n",
      "maximal charge density = 1874.7355233311396 µC/cm2\n"
     ]
    }
   ],
   "source": [
    "Q_max = Shannon_limit(GSA, k)\n",
    "print('Q_max =', Q_max, 'µC')\n",
    "print('Q_max =', Q_max*10**3, 'nC')\n",
    "\n",
    "print('maximal charge density =', Q_max/GSA, 'µC/cm2')"
   ]
  },
  {
   "cell_type": "code",
   "execution_count": null,
   "metadata": {},
   "outputs": [
    {
     "name": "stdout",
     "output_type": "stream",
     "text": [
      "max_amp = 0.14997884186649113 mA\n"
     ]
    }
   ],
   "source": [
    "# If we have a pulse width of 200 µs, what is the maximum amplitude we can use?\n",
    "width = 200e-6 # generally between 50e-6 and 4e-3\n",
    "max_amp = Shannon_limit_pulse(Q_max, width)\n",
    "print('max_amp =', max_amp*10**3, 'mA')"
   ]
  },
  {
   "cell_type": "code",
   "execution_count": null,
   "metadata": {},
   "outputs": [],
   "source": [
    "# Get eletrode surface area for existing electrodes\n",
    "def GSA_from_charge_density(charge_density, Q):\n",
    "    return Q*10**(-3)/charge_density"
   ]
  },
  {
   "cell_type": "code",
   "execution_count": null,
   "metadata": {},
   "outputs": [
    {
     "name": "stdout",
     "output_type": "stream",
     "text": [
      "max_amp_DBS = 0.00225 µA\n",
      "pulse_width_DBS = 60.00 µs\n",
      "Qinj_DBS = 135.00 nC\n",
      "GSA_DBS = 5869.57 µm^2\n",
      "\n",
      "\n",
      "max_amp_intracortical = 2.2999999999999997e-05 µA\n",
      "pulse_width_intracortical = 200.0 µs\n",
      "Q_inj_intracortical = 4.6 nC\n",
      "GSA_intracortical = 0.2 µm^2\n",
      "\n",
      "\n",
      "max_amp_hearing_cat = 1e-05 µA\n",
      "pulse_width_hearing_cat = 150.0 µs\n",
      "Q_inj_hearing_cat = 1.5 nC\n",
      "GSA_hearing_cat = 1.7 µm^2\n",
      "\n",
      "\n",
      "max_amp_intraspinal_cat = 8.999999999999999e-05 µA\n",
      "pulse_width_intraspinal_cat = 100.0 µs\n",
      "Q_inj_intraspinal_cat = 9.0 nC\n",
      "GSA_intraspinal_cat = 0.2 µm^2\n",
      "\n",
      "\n"
     ]
    }
   ],
   "source": [
    "# Values for existing electrodes\n",
    "pulse_width_DBS = 60e-6 #60µs\n",
    "Qinj_DBS = 135e-9 #200nC\n",
    "charge_density_DBS = 2.3e-6 #2.3µC/cm2\n",
    "pulse_width_intracortical = 200e-6 #200µs\n",
    "Q_inj_intracortical = 4.6e-9 #4.6nC\n",
    "charge_density_intracortical = 2300e-6 #2300µC/cm2\n",
    "pulse_width_hearing_cat = 150e-6 #150µs\n",
    "Q_inj_hearing_cat = 1.5e-9 #1.5nC\n",
    "charge_density_hearing_cat = 90e-6 #90µC/cm2\n",
    "pulse_width_intraspinal_cat = 100e-6 #100µs\n",
    "Q_inj_intraspinal_cat = 9e-9 #9nC\n",
    "charge_density_intraspinal_cat = 4000e-6 #90µC/cm2\n",
    "\n",
    "# Get maximum amplitude for existing electrodes\n",
    "max_amp_DBS = Shannon_limit_pulse(Qinj_DBS, pulse_width_DBS)\n",
    "GSA_DBS = GSA_from_charge_density(charge_density_DBS, Qinj_DBS)\n",
    "print(f'max_amp_DBS = {max_amp_DBS*10**6} µA')\n",
    "print(f'pulse_width_DBS = {pulse_width_DBS*10**6:.2f} µs')\n",
    "print(f'Qinj_DBS = {Qinj_DBS*10**9:.2f} nC')\n",
    "print(f'GSA_DBS = {GSA_DBS*10**8:.2f} µm^2')\n",
    "print('\\n')\n",
    "\n",
    "max_amp_intracortical = Shannon_limit_pulse(Q_inj_intracortical, pulse_width_intracortical)\n",
    "GSA_intracortical = GSA_from_charge_density(charge_density_intracortical, Q_inj_intracortical)\n",
    "print(f'max_amp_intracortical = {max_amp_intracortical*10**6} µA')\n",
    "print(f'pulse_width_intracortical = {pulse_width_intracortical*10**6:.1f} µs')\n",
    "print(f'Q_inj_intracortical = {Q_inj_intracortical*10**9:.1f} nC')\n",
    "print(f'GSA_intracortical = {GSA_intracortical*10**8:.1f} µm^2')\n",
    "print('\\n')\n",
    "\n",
    "max_amp_hearing_cat = Shannon_limit_pulse(Q_inj_hearing_cat, pulse_width_hearing_cat)\n",
    "GSA_hearing_cat = GSA_from_charge_density(charge_density_hearing_cat, Q_inj_hearing_cat)\n",
    "print(f'max_amp_hearing_cat = {max_amp_hearing_cat*10**6} µA')\n",
    "print(f'pulse_width_hearing_cat = {pulse_width_hearing_cat*10**6:.1f} µs')\n",
    "print(f'Q_inj_hearing_cat = {Q_inj_hearing_cat*10**9:.1f} nC')\n",
    "print(f'GSA_hearing_cat = {GSA_hearing_cat*10**8:.1f} µm^2')\n",
    "print('\\n')\n",
    "\n",
    "max_amp_intraspinal_cat = Shannon_limit_pulse(Q_inj_intraspinal_cat, pulse_width_intraspinal_cat)\n",
    "GSA_intraspinal_cat = GSA_from_charge_density(charge_density_intraspinal_cat, Q_inj_intraspinal_cat)\n",
    "print(f'max_amp_intraspinal_cat = {max_amp_intraspinal_cat*10**6} µA')\n",
    "print(f'pulse_width_intraspinal_cat = {pulse_width_intraspinal_cat*10**6:.1f} µs')\n",
    "print(f'Q_inj_intraspinal_cat = {Q_inj_intraspinal_cat*10**9:.1f} nC')\n",
    "print(f'GSA_intraspinal_cat = {GSA_intraspinal_cat*10**8:.1f} µm^2')\n",
    "print('\\n')"
   ]
  },
  {
   "cell_type": "code",
   "execution_count": null,
   "metadata": {},
   "outputs": [],
   "source": [
    "# Test with other values\n",
    "CIC_theoretical = 100*10**(-6) #maximum value for platinum would be 100 µm/cm2\n",
    "Qinj_theor = CIC_theoretical * GSA #"
   ]
  },
  {
   "cell_type": "code",
   "execution_count": null,
   "metadata": {},
   "outputs": [
    {
     "data": {
      "text/plain": [
       "True"
      ]
     },
     "execution_count": 18,
     "metadata": {},
     "output_type": "execute_result"
    }
   ],
   "source": [
    "Within_Shannon_limit(Qinj_theor, GSA, k) #considering charge injection capacity"
   ]
  },
  {
   "cell_type": "markdown",
   "metadata": {},
   "source": [
    "## Values taken from paper\n",
    "Values taken from https://www.sciencedirect.com/science/article/pii/S1389034402000138  "
   ]
  },
  {
   "cell_type": "code",
   "execution_count": null,
   "metadata": {},
   "outputs": [],
   "source": [
    "#for Pt/Ir with TiN coating\n",
    "\n",
    "ESA = 1000*GSA #reffective surface area due to TiN coating\n",
    "C_inj = 6.6e-2*ESA #Capacitance : 6.6x10^(-2) F/cm^2 multiplied by our electrode area\n",
    "R_CT = 3.9*10**3 / ESA #3.9x10^3 Ωcm2"
   ]
  },
  {
   "cell_type": "code",
   "execution_count": null,
   "metadata": {},
   "outputs": [
    {
     "name": "stdout",
     "output_type": "stream",
     "text": [
      "C_inj =  0.001056 F\n",
      "R_CT =  243750.0 Ohm\n"
     ]
    }
   ],
   "source": [
    "print('C_inj = ', C_inj, 'F')\n",
    "print('R_CT = ', R_CT, 'Ohm')"
   ]
  },
  {
   "cell_type": "code",
   "execution_count": null,
   "metadata": {},
   "outputs": [],
   "source": [
    "f = np.logspace(-5, 5, 40000)\n",
    "\n",
    "Z_c = 1/(2j*np.pi*f*C_inj)\n",
    "Z_interface = Z_c*R_CT/(Z_c+ R_CT)#Capacitance and Faradaic resistance are in \n",
    "Z_one_elec = Z_interface + R_series"
   ]
  },
  {
   "cell_type": "code",
   "execution_count": null,
   "metadata": {},
   "outputs": [
    {
     "data": {
      "image/png": "[encoded data removed]",
      "text/plain": [
       "<Figure size 640x480 with 1 Axes>"
      ]
     },
     "metadata": {},
     "output_type": "display_data"
    }
   ],
   "source": [
    "plt.plot(f, abs(Z_one_elec))\n",
    "plt.xscale('log')\n",
    "plt.yscale('log')\n",
    "plt.xlabel('log(frequency [Hz])')\n",
    "plt.title('Impedance of the stimulating electrodes as a function of frequency')\n",
    "plt.ylabel('log( | Impedance | [MΩ] )')\n",
    "plt.xlim([1e-4, 1e4])\n",
    "plt.ylim([1e4, 1e6])\n",
    "plt.show()"
   ]
  },
  {
   "cell_type": "markdown",
   "metadata": {},
   "source": [
    "## Values taken from lecture:\n",
    "double layer capacitance (helmoltz layer)"
   ]
  },
  {
   "cell_type": "code",
   "execution_count": null,
   "metadata": {},
   "outputs": [],
   "source": [
    "#for Pt/Ir with TiN coating\n",
    "\n",
    "ESA = 1000*GSA #reffective surface area due to TiN coating\n",
    "C_inj = 20e-6*ESA #Capacitance : 20 µF/cm^2 multiplied by our electrode area\n",
    "R_CT = None"
   ]
  },
  {
   "cell_type": "code",
   "execution_count": null,
   "metadata": {},
   "outputs": [],
   "source": [
    "f = np.logspace(-5, 4, 40000)\n",
    "\n",
    "Z_c = 1/(2j*np.pi*f*C_inj)\n",
    "Z_interface = Z_c #Capacitance \n",
    "Z_one_elec = Z_interface + R_series"
   ]
  },
  {
   "cell_type": "code",
   "execution_count": null,
   "metadata": {},
   "outputs": [
    {
     "data": {
      "image/png": "[encoded data removed]",
      "text/plain": [
       "<Figure size 640x480 with 1 Axes>"
      ]
     },
     "metadata": {},
     "output_type": "display_data"
    }
   ],
   "source": [
    "plt.plot(f, abs(Z_one_elec))\n",
    "plt.xscale('log')\n",
    "plt.yscale('log')\n",
    "plt.xlabel('log(frequency [Hz])')\n",
    "plt.title('Impedance of the stimulating electrodes as a function of frequency')\n",
    "plt.ylabel('log( | Impedance | [MΩ] )')\n",
    "plt.xlim([1e-4, 1e4])\n",
    "plt.ylim([1e4, 1e6])\n",
    "plt.show()"
   ]
  },
  {
   "cell_type": "code",
   "execution_count": null,
   "metadata": {},
   "outputs": [],
   "source": [
    "#IPG supply voltage for 96 channels\n",
    "\n",
    "V_IPG = 9.5 #9.5 volts"
   ]
  },
  {
   "cell_type": "code",
   "execution_count": null,
   "metadata": {},
   "outputs": [
    {
     "name": "stdout",
     "output_type": "stream",
     "text": [
      "Constrained current =  [7.39115885e-15+1.22245653e-08j 7.39882145e-15+1.22309005e-08j\n",
      " 7.40649201e-15+1.22372389e-08j ... 2.02186952e-02+3.34752652e-05j\n",
      " 2.02186953e-02+3.34579265e-05j 2.02186953e-02+3.34405967e-05j]  A\n"
     ]
    }
   ],
   "source": [
    "#define the depth of the CA1/CA3 --> front to back \n",
    "\n",
    "nb_electrodes = 64\n",
    "Z_tot = 1/(nb_electrodes / Z_one_elec)\n",
    "#total impedance of one electrode --> injection capacitance, resistance of the track, resistance of the medium, faradaic resistance\n",
    "\n",
    "I_constrained = V_IPG / Z_tot\n",
    "print(\"Constrained current = \", I_constrained, \" A\")"
   ]
  }
 ],
 "metadata": {
  "kernelspec": {
   "display_name": "nssp",
   "language": "python",
   "name": "python3"
  },
  "language_info": {
   "codemirror_mode": {
    "name": "ipython",
    "version": 3
   },
   "file_extension": ".py",
   "mimetype": "text/x-python",
   "name": "python",
   "nbconvert_exporter": "python",
   "pygments_lexer": "ipython3",
   "version": "3.9.18"
  }
 },
 "nbformat": 4,
 "nbformat_minor": 2
}
